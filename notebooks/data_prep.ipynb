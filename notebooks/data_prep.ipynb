{
 "cells": [
  {
   "cell_type": "code",
   "execution_count": 47,
   "metadata": {},
   "outputs": [],
   "source": [
    "import pandas as pd\n",
    "import numpy as np\n",
    "import datetime \n",
    "import warnings\n",
    "warnings.filterwarnings(action = 'ignore')"
   ]
  },
  {
   "cell_type": "code",
   "execution_count": 48,
   "metadata": {},
   "outputs": [],
   "source": [
    "active_employees=pd.read_excel(\"../input/active_employees.xlsx\")\n",
    "attrition=pd.read_excel(\"../input/attrition.xlsx\")\n",
    "training=pd.read_excel(\"../input/training.xlsx\")\n",
    "incentive=pd.read_excel(\"../input/sales_incentive.xls\",index_col=0)\n",
    "progression=pd.read_excel(\"../input/progression.xlsx\")\n",
    "recognition=pd.read_excel(\"../input/recognition.xlsx\",index_col=0)\n",
    "market_value=pd.read_excel(\"../input/market_value.xlsx\",index_col=0).reset_index()"
   ]
  },
  {
   "cell_type": "code",
   "execution_count": 49,
   "metadata": {},
   "outputs": [],
   "source": [
    "training.rename(columns={'empno':'Emp.No.', 'empname':'Employee Name', 'org_dept':'Department'},inplace=True)"
   ]
  },
  {
   "cell_type": "code",
   "execution_count": 50,
   "metadata": {},
   "outputs": [
    {
     "name": "stdout",
     "output_type": "stream",
     "text": [
      "(3216, 154)\n",
      "(2647, 87)\n"
     ]
    }
   ],
   "source": [
    "print(active_employees.shape)\n",
    "print(attrition.shape)"
   ]
  },
  {
   "cell_type": "code",
   "execution_count": 51,
   "metadata": {},
   "outputs": [],
   "source": [
    "incentive.rename(columns={\"PERNR\":'Emp.No.','BETRG':\"incentive\"},inplace=True)"
   ]
  },
  {
   "cell_type": "code",
   "execution_count": 52,
   "metadata": {},
   "outputs": [],
   "source": [
    "training=training[training['sdate']<=\"2021-03-31\"].reset_index()\n",
    "incentive=incentive[incentive['BEGDA']<=\"2021-03-31\"].reset_index()\n",
    "recognition=recognition[recognition['Date']<=\"2021-03-31\"].reset_index()\n",
    "active_employees=active_employees[active_employees['Date of Join']<=\"2021-03-31\"].reset_index()"
   ]
  },
  {
   "cell_type": "code",
   "execution_count": 53,
   "metadata": {},
   "outputs": [],
   "source": [
    "dat=attrition[['Emp.No.', 'Employee Name',\n",
    "       'Date of Birth', 'Date of Join', 'Leaving Date', 'Reason', 'Department',\n",
    "       'Designation', 'Location', 'Exp. in TVSM (Years)',\n",
    "       'Ext. Exp in years',  'Grade','This Grade from', \n",
    "       '2015 - App.Perf','2016 - App.Perf', '2017 - App.Perf', '2018 - App.Perf',\n",
    "       '2019 - App.Perf', '2020 - App.Perf',\n",
    "       'Education',  'Mode of Selection', 'Education.1', 'CTC', 'Status.1', 'Gender','Potential Rating','Role','This Role from']]"
   ]
  },
  {
   "cell_type": "code",
   "execution_count": 54,
   "metadata": {},
   "outputs": [],
   "source": [
    "dat['Resignation Date']=dat['Leaving Date']-pd.DateOffset(months=4)"
   ]
  },
  {
   "cell_type": "code",
   "execution_count": 55,
   "metadata": {},
   "outputs": [
    {
     "data": {
      "text/plain": [
       "(2647, 29)"
      ]
     },
     "execution_count": 55,
     "metadata": {},
     "output_type": "execute_result"
    }
   ],
   "source": [
    "dat.shape"
   ]
  },
  {
   "cell_type": "code",
   "execution_count": 56,
   "metadata": {},
   "outputs": [],
   "source": [
    "dac=active_employees[[ 'Emp.No.','Employee Name','Date of Birth', 'Date of Join','Department','Designation','Location','Exp.in TVS in Years', 'Ext. Exp in Years',\n",
    "'Present Grade', 'Grade Effective.Date','PR 20 - 21', 'PR 19 - 20', 'PR 18 - 19','Education','Mode of Selection','Total CTC','Contract Type','Gender','POT 20 - 21','Role','This Role from']]"
   ]
  },
  {
   "cell_type": "code",
   "execution_count": 57,
   "metadata": {},
   "outputs": [
    {
     "data": {
      "text/plain": [
       "(2959, 22)"
      ]
     },
     "execution_count": 57,
     "metadata": {},
     "output_type": "execute_result"
    }
   ],
   "source": [
    "dac.shape"
   ]
  },
  {
   "cell_type": "code",
   "execution_count": 58,
   "metadata": {},
   "outputs": [],
   "source": [
    "dac['Age']=dac['Date of Birth'].apply(lambda x: (pd.to_datetime(\"2021-03-31\").toordinal()-x.toordinal())/365)\n",
    "\n",
    "dac['This Role from']=dac['This Role from'].fillna(dac['Date of Join'])\n",
    "dac['Years_in_Current_Role']=dac['This Role from'].apply(lambda x: (pd.to_datetime(\"2021-03-31\").toordinal()-x.toordinal())/365)\n",
    "\n",
    "dac['Grade Effective.Date']=dac['Grade Effective.Date'].fillna(dac['Date of Join'])\n",
    "dac['Years_in_Current_Grade']=dac['Grade Effective.Date'].apply(lambda x: (pd.to_datetime(\"2021-03-31\").toordinal()-x.toordinal())/365)\n",
    "\n",
    "dac['Attrition']=\"No\"\n",
    "\n",
    "dac.rename(columns={'Exp.in TVS in Years':\"TVS_exp_in_Years\", 'Ext. Exp in Years':\"External_exp_in_Years\",\"Contract Type\":\"Type of employment\",\"POT 20 - 21\":\"Potential Rating\",\n",
    "\"Present Grade\":\"Grade\",'Total CTC':\"CTC\",'Location':'work_location'},inplace=True)\n",
    "\n",
    "dac['TVS_exp_in_Years']=dac['Date of Join'].apply(lambda x: (pd.to_datetime(\"2021-03-31\").toordinal()-x.toordinal())/365)\n",
    "\n"
   ]
  },
  {
   "cell_type": "code",
   "execution_count": 59,
   "metadata": {},
   "outputs": [],
   "source": [
    "doo=dat[dat['Resignation Date']>\"2021-03-31\"].reset_index(drop=True)\n",
    "doo['Attrition']=\"No\"\n",
    "dat=dat[dat['Resignation Date']<=\"2021-03-31\"].reset_index(drop=True)"
   ]
  },
  {
   "cell_type": "code",
   "execution_count": 60,
   "metadata": {},
   "outputs": [],
   "source": [
    "dat['Age']=((dat['Resignation Date']- dat['Date of Birth'])/ np.timedelta64(1, 'D'))/365\n",
    "\n",
    "dat['This Role from']=dat['This Role from'].fillna(dac['Date of Join'])\n",
    "dat['Years_in_Current_Role']=((dat['Resignation Date']- dat['This Role from'])/ np.timedelta64(1, 'D'))/365\n",
    "\n",
    "dat['This Grade from']=pd.to_datetime(dat['This Grade from'].replace({\"00.00.0000\":\"\"}))\n",
    "dat['This Grade from']=dat['This Grade from'].fillna(dat['Date of Join'])\n",
    "dat['Years_in_Current_Grade']=((dat['Resignation Date']- dat['This Grade from'])/ np.timedelta64(1, 'D'))/365\n",
    "\n",
    "dat['Education']=dat['Education'].fillna('Education.1')\n",
    "\n",
    "dat['Attrition']=\"Yes\"\n",
    "\n",
    "dat.rename(columns={'Exp. in TVSM (Years)':\"TVS_exp_in_Years\", 'Ext. Exp in years':\"External_exp_in_Years\",\"Status.1\":\"Type of employment\",\n",
    "'2016 - App.Perf':'PR 16 - 17','2017 - App.Perf':'PR 17 - 18', '2018 - App.Perf':'PR 18 - 19', '2019 - App.Perf':\"PR 19 - 20\",'2020 - App.Perf':'PR 20 - 21','Location':'work_location'},inplace=True)\n",
    "dat=dat[dat['Reason'].str.contains(\"Resignation\",na=False)]\n",
    "\n",
    "\n",
    "dat['TVS_exp_in_Years']=((dat['Resignation Date']- dat['Date of Join'])/ np.timedelta64(1, 'D'))/365\n"
   ]
  },
  {
   "cell_type": "code",
   "execution_count": 61,
   "metadata": {},
   "outputs": [],
   "source": [
    "doo['Age']=doo['Date of Birth'].apply(lambda x: (pd.to_datetime(\"2021-03-31\").toordinal()-x.toordinal())/365)\n",
    "\n",
    "doo['This Role from']=doo['This Role from'].fillna(dac['Date of Join'])\n",
    "doo['Years_in_Current_Role']=doo['This Role from'].apply(lambda x: (pd.to_datetime(\"2021-03-31\").toordinal()-x.toordinal())/365)\n",
    "\n",
    "\n",
    "doo['This Grade from']=pd.to_datetime(doo['This Grade from'].replace({\"00.00.0000\":\"\"}))\n",
    "doo['This Grade from']=doo['This Grade from'].fillna(dat['Date of Join'])\n",
    "doo['Years_in_Current_Grade']=doo['This Grade from'].apply(lambda x: (pd.to_datetime(\"2021-03-31\").toordinal()-x.toordinal())/365)\n",
    "doo['Education']=doo['Education'].fillna('Education.1')\n",
    "\n",
    "\n",
    "doo.rename(columns={'Exp. in TVSM (Years)':\"TVS_exp_in_Years\", 'Ext. Exp in years':\"External_exp_in_Years\",\"Status.1\":\"Type of employment\",\n",
    "'2016 - App.Perf':'PR 16 - 17','2017 - App.Perf':'PR 17 - 18', '2018 - App.Perf':'PR 18 - 19', '2019 - App.Perf':\"PR 19 - 20\",'2020 - App.Perf':'PR 20 - 21','Location':'work_location'},inplace=True)\n",
    "doo=doo[doo['Reason'].str.contains(\"Resignation\",na=False)]\n",
    "\n",
    "\n",
    "doo['TVS_exp_in_Years']=doo['Date of Join'].apply(lambda x: (pd.to_datetime(\"2021-03-31\").toordinal()-x.toordinal())/365)\n",
    "\n"
   ]
  },
  {
   "cell_type": "code",
   "execution_count": 62,
   "metadata": {},
   "outputs": [],
   "source": [
    "df=pd.concat([dac,dat,doo]).reset_index(drop=True)"
   ]
  },
  {
   "cell_type": "code",
   "execution_count": 63,
   "metadata": {},
   "outputs": [
    {
     "data": {
      "text/html": [
       "<div>\n",
       "<style scoped>\n",
       "    .dataframe tbody tr th:only-of-type {\n",
       "        vertical-align: middle;\n",
       "    }\n",
       "\n",
       "    .dataframe tbody tr th {\n",
       "        vertical-align: top;\n",
       "    }\n",
       "\n",
       "    .dataframe thead th {\n",
       "        text-align: right;\n",
       "    }\n",
       "</style>\n",
       "<table border=\"1\" class=\"dataframe\">\n",
       "  <thead>\n",
       "    <tr style=\"text-align: right;\">\n",
       "      <th></th>\n",
       "      <th>Emp.No.</th>\n",
       "      <th>Employee Name</th>\n",
       "      <th>Date of Birth</th>\n",
       "      <th>Date of Join</th>\n",
       "      <th>Department</th>\n",
       "      <th>Designation</th>\n",
       "      <th>work_location</th>\n",
       "      <th>TVS_exp_in_Years</th>\n",
       "      <th>External_exp_in_Years</th>\n",
       "      <th>Grade</th>\n",
       "      <th>...</th>\n",
       "      <th>Years_in_Current_Grade</th>\n",
       "      <th>Attrition</th>\n",
       "      <th>Leaving Date</th>\n",
       "      <th>Reason</th>\n",
       "      <th>This Grade from</th>\n",
       "      <th>2015 - App.Perf</th>\n",
       "      <th>PR 16 - 17</th>\n",
       "      <th>PR 17 - 18</th>\n",
       "      <th>Education.1</th>\n",
       "      <th>Resignation Date</th>\n",
       "    </tr>\n",
       "  </thead>\n",
       "  <tbody>\n",
       "    <tr>\n",
       "      <th>0</th>\n",
       "      <td>1</td>\n",
       "      <td>Venu Srinivasan</td>\n",
       "      <td>1952-12-11</td>\n",
       "      <td>1979-05-23</td>\n",
       "      <td>MDO</td>\n",
       "      <td>Chairman &amp; Managing Director</td>\n",
       "      <td>Chennai</td>\n",
       "      <td>41.884932</td>\n",
       "      <td>0.0</td>\n",
       "      <td>S4</td>\n",
       "      <td>...</td>\n",
       "      <td>17.008219</td>\n",
       "      <td>No</td>\n",
       "      <td>NaT</td>\n",
       "      <td>NaN</td>\n",
       "      <td>NaT</td>\n",
       "      <td>NaN</td>\n",
       "      <td>NaN</td>\n",
       "      <td>NaN</td>\n",
       "      <td>NaN</td>\n",
       "      <td>NaT</td>\n",
       "    </tr>\n",
       "    <tr>\n",
       "      <th>1</th>\n",
       "      <td>279</td>\n",
       "      <td>Harne Vinay Chandrakant</td>\n",
       "      <td>1959-03-17</td>\n",
       "      <td>1982-07-31</td>\n",
       "      <td>NPD</td>\n",
       "      <td>Chief Technology Officer</td>\n",
       "      <td>Hosur Plant</td>\n",
       "      <td>38.693151</td>\n",
       "      <td>0.0</td>\n",
       "      <td>S3</td>\n",
       "      <td>...</td>\n",
       "      <td>16.602740</td>\n",
       "      <td>No</td>\n",
       "      <td>NaT</td>\n",
       "      <td>NaN</td>\n",
       "      <td>NaT</td>\n",
       "      <td>NaN</td>\n",
       "      <td>NaN</td>\n",
       "      <td>NaN</td>\n",
       "      <td>NaN</td>\n",
       "      <td>NaT</td>\n",
       "    </tr>\n",
       "    <tr>\n",
       "      <th>2</th>\n",
       "      <td>336</td>\n",
       "      <td>K P Chandrashekara</td>\n",
       "      <td>1965-01-26</td>\n",
       "      <td>1985-04-01</td>\n",
       "      <td>R &amp; D (H)</td>\n",
       "      <td>Assistant Manager - R &amp; D</td>\n",
       "      <td>Hosur Plant</td>\n",
       "      <td>36.021918</td>\n",
       "      <td>1.6</td>\n",
       "      <td>B1</td>\n",
       "      <td>...</td>\n",
       "      <td>-0.002740</td>\n",
       "      <td>No</td>\n",
       "      <td>NaT</td>\n",
       "      <td>NaN</td>\n",
       "      <td>NaT</td>\n",
       "      <td>NaN</td>\n",
       "      <td>NaN</td>\n",
       "      <td>NaN</td>\n",
       "      <td>NaN</td>\n",
       "      <td>NaT</td>\n",
       "    </tr>\n",
       "    <tr>\n",
       "      <th>3</th>\n",
       "      <td>340</td>\n",
       "      <td>A Rajan Babu</td>\n",
       "      <td>1952-07-28</td>\n",
       "      <td>1983-09-01</td>\n",
       "      <td>ERM (H)</td>\n",
       "      <td>Chief Medical Officer</td>\n",
       "      <td>Hosur Plant</td>\n",
       "      <td>37.605479</td>\n",
       "      <td>4.0</td>\n",
       "      <td>D5</td>\n",
       "      <td>...</td>\n",
       "      <td>16.008219</td>\n",
       "      <td>No</td>\n",
       "      <td>NaT</td>\n",
       "      <td>NaN</td>\n",
       "      <td>NaT</td>\n",
       "      <td>NaN</td>\n",
       "      <td>NaN</td>\n",
       "      <td>NaN</td>\n",
       "      <td>NaN</td>\n",
       "      <td>NaT</td>\n",
       "    </tr>\n",
       "    <tr>\n",
       "      <th>4</th>\n",
       "      <td>342</td>\n",
       "      <td>M Surianarayanan</td>\n",
       "      <td>1965-04-24</td>\n",
       "      <td>1985-04-01</td>\n",
       "      <td>TQC (H)</td>\n",
       "      <td>Deputy Manager - TQC</td>\n",
       "      <td>Hosur Plant</td>\n",
       "      <td>36.021918</td>\n",
       "      <td>0.8</td>\n",
       "      <td>B2</td>\n",
       "      <td>...</td>\n",
       "      <td>0.410959</td>\n",
       "      <td>No</td>\n",
       "      <td>NaT</td>\n",
       "      <td>NaN</td>\n",
       "      <td>NaT</td>\n",
       "      <td>NaN</td>\n",
       "      <td>NaN</td>\n",
       "      <td>NaN</td>\n",
       "      <td>NaN</td>\n",
       "      <td>NaT</td>\n",
       "    </tr>\n",
       "    <tr>\n",
       "      <th>...</th>\n",
       "      <td>...</td>\n",
       "      <td>...</td>\n",
       "      <td>...</td>\n",
       "      <td>...</td>\n",
       "      <td>...</td>\n",
       "      <td>...</td>\n",
       "      <td>...</td>\n",
       "      <td>...</td>\n",
       "      <td>...</td>\n",
       "      <td>...</td>\n",
       "      <td>...</td>\n",
       "      <td>...</td>\n",
       "      <td>...</td>\n",
       "      <td>...</td>\n",
       "      <td>...</td>\n",
       "      <td>...</td>\n",
       "      <td>...</td>\n",
       "      <td>...</td>\n",
       "      <td>...</td>\n",
       "      <td>...</td>\n",
       "      <td>...</td>\n",
       "    </tr>\n",
       "    <tr>\n",
       "      <th>4392</th>\n",
       "      <td>12817</td>\n",
       "      <td>Nemani Sagar Venkateshwar</td>\n",
       "      <td>1996-08-14</td>\n",
       "      <td>2020-07-22</td>\n",
       "      <td>IB (H)</td>\n",
       "      <td>Management Trainee</td>\n",
       "      <td>Hosur Plant</td>\n",
       "      <td>0.690411</td>\n",
       "      <td>1.0</td>\n",
       "      <td>TM</td>\n",
       "      <td>...</td>\n",
       "      <td>0.690411</td>\n",
       "      <td>No</td>\n",
       "      <td>2021-10-18</td>\n",
       "      <td>Resignation - Personal Reasons</td>\n",
       "      <td>2020-07-22</td>\n",
       "      <td>NaN</td>\n",
       "      <td>NaN</td>\n",
       "      <td>NaN</td>\n",
       "      <td>MBA - T1</td>\n",
       "      <td>2021-06-18</td>\n",
       "    </tr>\n",
       "    <tr>\n",
       "      <th>4393</th>\n",
       "      <td>13175</td>\n",
       "      <td>Harpreet Singh</td>\n",
       "      <td>1995-10-22</td>\n",
       "      <td>2021-07-07</td>\n",
       "      <td>PRE-OWN (H)</td>\n",
       "      <td>Senior Executive</td>\n",
       "      <td>Noida</td>\n",
       "      <td>-0.268493</td>\n",
       "      <td>6.0</td>\n",
       "      <td>A3</td>\n",
       "      <td>...</td>\n",
       "      <td>-0.268493</td>\n",
       "      <td>No</td>\n",
       "      <td>2021-10-18</td>\n",
       "      <td>Resignation - Personal Reasons</td>\n",
       "      <td>2021-07-07</td>\n",
       "      <td>NaN</td>\n",
       "      <td>NaN</td>\n",
       "      <td>NaN</td>\n",
       "      <td>DET</td>\n",
       "      <td>2021-06-18</td>\n",
       "    </tr>\n",
       "    <tr>\n",
       "      <th>4394</th>\n",
       "      <td>13250</td>\n",
       "      <td>Yogeshwaran B</td>\n",
       "      <td>2000-02-14</td>\n",
       "      <td>2021-08-11</td>\n",
       "      <td>IT (H)</td>\n",
       "      <td>Graduate Engineer Trainee</td>\n",
       "      <td>Hosur Plant</td>\n",
       "      <td>-0.364384</td>\n",
       "      <td>0.0</td>\n",
       "      <td>TM</td>\n",
       "      <td>...</td>\n",
       "      <td>-0.608219</td>\n",
       "      <td>No</td>\n",
       "      <td>2021-10-20</td>\n",
       "      <td>Resignation - Personal Reasons</td>\n",
       "      <td>2021-11-08</td>\n",
       "      <td>NaN</td>\n",
       "      <td>NaN</td>\n",
       "      <td>NaN</td>\n",
       "      <td>GE - T2</td>\n",
       "      <td>2021-06-20</td>\n",
       "    </tr>\n",
       "    <tr>\n",
       "      <th>4395</th>\n",
       "      <td>8505</td>\n",
       "      <td>K Arun Kumar</td>\n",
       "      <td>1979-04-03</td>\n",
       "      <td>2012-05-09</td>\n",
       "      <td>Parts (H)</td>\n",
       "      <td>Assistant General Manager</td>\n",
       "      <td>Bangalore</td>\n",
       "      <td>8.898630</td>\n",
       "      <td>10.6</td>\n",
       "      <td>C2</td>\n",
       "      <td>...</td>\n",
       "      <td>6.241096</td>\n",
       "      <td>No</td>\n",
       "      <td>2021-10-22</td>\n",
       "      <td>Resignation - Better offer-Com</td>\n",
       "      <td>2015-01-04</td>\n",
       "      <td>EE</td>\n",
       "      <td>ME</td>\n",
       "      <td>ME</td>\n",
       "      <td>MBA</td>\n",
       "      <td>2021-06-22</td>\n",
       "    </tr>\n",
       "    <tr>\n",
       "      <th>4396</th>\n",
       "      <td>12514</td>\n",
       "      <td>K Yuvaprashanth</td>\n",
       "      <td>1997-08-14</td>\n",
       "      <td>2019-07-08</td>\n",
       "      <td>R &amp; D (H)</td>\n",
       "      <td>Senior Engineer - R &amp; D</td>\n",
       "      <td>Hosur Plant</td>\n",
       "      <td>1.731507</td>\n",
       "      <td>0.0</td>\n",
       "      <td>A3</td>\n",
       "      <td>...</td>\n",
       "      <td>1.649315</td>\n",
       "      <td>No</td>\n",
       "      <td>2021-10-22</td>\n",
       "      <td>Resignation - Studies India</td>\n",
       "      <td>2019-08-07</td>\n",
       "      <td>NaN</td>\n",
       "      <td>NaN</td>\n",
       "      <td>NaN</td>\n",
       "      <td>GE - T2</td>\n",
       "      <td>2021-06-22</td>\n",
       "    </tr>\n",
       "  </tbody>\n",
       "</table>\n",
       "<p>4397 rows × 34 columns</p>\n",
       "</div>"
      ],
      "text/plain": [
       "      Emp.No.              Employee Name Date of Birth Date of Join  \\\n",
       "0           1            Venu Srinivasan    1952-12-11   1979-05-23   \n",
       "1         279    Harne Vinay Chandrakant    1959-03-17   1982-07-31   \n",
       "2         336         K P Chandrashekara    1965-01-26   1985-04-01   \n",
       "3         340               A Rajan Babu    1952-07-28   1983-09-01   \n",
       "4         342           M Surianarayanan    1965-04-24   1985-04-01   \n",
       "...       ...                        ...           ...          ...   \n",
       "4392    12817  Nemani Sagar Venkateshwar    1996-08-14   2020-07-22   \n",
       "4393    13175             Harpreet Singh    1995-10-22   2021-07-07   \n",
       "4394    13250              Yogeshwaran B    2000-02-14   2021-08-11   \n",
       "4395     8505               K Arun Kumar    1979-04-03   2012-05-09   \n",
       "4396    12514            K Yuvaprashanth    1997-08-14   2019-07-08   \n",
       "\n",
       "       Department                   Designation work_location  \\\n",
       "0             MDO  Chairman & Managing Director       Chennai   \n",
       "1             NPD      Chief Technology Officer   Hosur Plant   \n",
       "2       R & D (H)     Assistant Manager - R & D   Hosur Plant   \n",
       "3         ERM (H)         Chief Medical Officer   Hosur Plant   \n",
       "4         TQC (H)          Deputy Manager - TQC   Hosur Plant   \n",
       "...           ...                           ...           ...   \n",
       "4392       IB (H)            Management Trainee   Hosur Plant   \n",
       "4393  PRE-OWN (H)              Senior Executive         Noida   \n",
       "4394       IT (H)     Graduate Engineer Trainee   Hosur Plant   \n",
       "4395    Parts (H)     Assistant General Manager     Bangalore   \n",
       "4396    R & D (H)       Senior Engineer - R & D   Hosur Plant   \n",
       "\n",
       "      TVS_exp_in_Years  External_exp_in_Years Grade  ...  \\\n",
       "0            41.884932                    0.0    S4  ...   \n",
       "1            38.693151                    0.0    S3  ...   \n",
       "2            36.021918                    1.6    B1  ...   \n",
       "3            37.605479                    4.0    D5  ...   \n",
       "4            36.021918                    0.8    B2  ...   \n",
       "...                ...                    ...   ...  ...   \n",
       "4392          0.690411                    1.0    TM  ...   \n",
       "4393         -0.268493                    6.0    A3  ...   \n",
       "4394         -0.364384                    0.0    TM  ...   \n",
       "4395          8.898630                   10.6    C2  ...   \n",
       "4396          1.731507                    0.0    A3  ...   \n",
       "\n",
       "     Years_in_Current_Grade Attrition Leaving Date  \\\n",
       "0                 17.008219        No          NaT   \n",
       "1                 16.602740        No          NaT   \n",
       "2                 -0.002740        No          NaT   \n",
       "3                 16.008219        No          NaT   \n",
       "4                  0.410959        No          NaT   \n",
       "...                     ...       ...          ...   \n",
       "4392               0.690411        No   2021-10-18   \n",
       "4393              -0.268493        No   2021-10-18   \n",
       "4394              -0.608219        No   2021-10-20   \n",
       "4395               6.241096        No   2021-10-22   \n",
       "4396               1.649315        No   2021-10-22   \n",
       "\n",
       "                              Reason This Grade from 2015 - App.Perf  \\\n",
       "0                                NaN             NaT             NaN   \n",
       "1                                NaN             NaT             NaN   \n",
       "2                                NaN             NaT             NaN   \n",
       "3                                NaN             NaT             NaN   \n",
       "4                                NaN             NaT             NaN   \n",
       "...                              ...             ...             ...   \n",
       "4392  Resignation - Personal Reasons      2020-07-22             NaN   \n",
       "4393  Resignation - Personal Reasons      2021-07-07             NaN   \n",
       "4394  Resignation - Personal Reasons      2021-11-08             NaN   \n",
       "4395  Resignation - Better offer-Com      2015-01-04              EE   \n",
       "4396     Resignation - Studies India      2019-08-07             NaN   \n",
       "\n",
       "      PR 16 - 17 PR 17 - 18 Education.1 Resignation Date  \n",
       "0            NaN        NaN         NaN              NaT  \n",
       "1            NaN        NaN         NaN              NaT  \n",
       "2            NaN        NaN         NaN              NaT  \n",
       "3            NaN        NaN         NaN              NaT  \n",
       "4            NaN        NaN         NaN              NaT  \n",
       "...          ...        ...         ...              ...  \n",
       "4392         NaN        NaN    MBA - T1       2021-06-18  \n",
       "4393         NaN        NaN         DET       2021-06-18  \n",
       "4394         NaN        NaN     GE - T2       2021-06-20  \n",
       "4395          ME         ME         MBA       2021-06-22  \n",
       "4396         NaN        NaN     GE - T2       2021-06-22  \n",
       "\n",
       "[4397 rows x 34 columns]"
      ]
     },
     "execution_count": 63,
     "metadata": {},
     "output_type": "execute_result"
    }
   ],
   "source": [
    "df"
   ]
  },
  {
   "cell_type": "code",
   "execution_count": 64,
   "metadata": {},
   "outputs": [],
   "source": [
    "df['CTC'].replace(0,np.nan,inplace=True)\n",
    "df['CTC'].fillna(df.groupby('Grade')['CTC'].transform('median'),inplace=True)\n",
    "df['CTC'].fillna(df['CTC'].median(),inplace=True)\n"
   ]
  },
  {
   "cell_type": "code",
   "execution_count": 65,
   "metadata": {},
   "outputs": [],
   "source": [
    "df.loc[df['Department'].isin(['Sales (H)', 'Sales (M)', 'Sales (HP)']),'Median_CTC']=pd.merge(df,market_value,on='Grade',how='left')"
   ]
  },
  {
   "cell_type": "code",
   "execution_count": 66,
   "metadata": {},
   "outputs": [],
   "source": [
    "df['compa ratio']=df['CTC']/df['Median_CTC']"
   ]
  },
  {
   "cell_type": "code",
   "execution_count": 67,
   "metadata": {},
   "outputs": [],
   "source": [
    "df['compa ratio'].fillna(1,inplace=True)"
   ]
  },
  {
   "cell_type": "code",
   "execution_count": 68,
   "metadata": {},
   "outputs": [],
   "source": [
    "tr=training[training.status==\"Attended\"]\n",
    "tr['training_days']=(tr.edate-tr.sdate).dt.days\n",
    "tr['training_days']=tr['training_days'].apply(lambda x: max(x,1))\n",
    "tr['training_hours']=(tr.time_to.astype(str).str[:2].astype(int)+(tr.time_to.astype(str).str[3:5].astype(int)/60))-tr.time_from.astype(str).str[:2].astype(int)+(tr.time_from.astype(str).str[3:5].astype(int)/60)\n",
    "tr['training_hours']=tr['training_hours']*tr['training_days']\n",
    "tr=tr.groupby(['Emp.No.','Employee Name']).aggregate(sum)\n",
    "df=pd.merge(df,tr,on='Emp.No.',how='left')\n",
    "df['trainings_attended']=df['training_days'].apply(lambda x: \"Yes\" if x>=0 else \"No\" )\n",
    "df['avg_training_days']=df.training_days/df.TVS_exp_in_Years.apply(lambda x: min((pd.to_datetime(\"2021-03-31\").toordinal()-pd.to_datetime(\"2015-01-01\").toordinal())/365,x))\n",
    "df['avg_training_days']=df['avg_training_days'].fillna(0)\n",
    "df['avg_training_hours']=df.training_hours/df.TVS_exp_in_Years.apply(lambda x: min((pd.to_datetime(\"2021-03-31\").toordinal()-pd.to_datetime(\"2015-01-01\").toordinal())/365,x))\n",
    "df['avg_training_hours']=df['avg_training_hours'].fillna(0)\n"
   ]
  },
  {
   "cell_type": "code",
   "execution_count": 69,
   "metadata": {},
   "outputs": [
    {
     "data": {
      "text/plain": [
       "Index(['Emp.No.', 'Employee Name', 'Date of Birth', 'Date of Join',\n",
       "       'Department', 'Designation', 'work_location', 'TVS_exp_in_Years',\n",
       "       'External_exp_in_Years', 'Grade', 'Grade Effective.Date', 'PR 20 - 21',\n",
       "       'PR 19 - 20', 'PR 18 - 19', 'Education', 'Mode of Selection', 'CTC',\n",
       "       'Type of employment', 'Gender', 'Potential Rating', 'Role',\n",
       "       'This Role from', 'Age', 'Years_in_Current_Role',\n",
       "       'Years_in_Current_Grade', 'Attrition', 'Leaving Date', 'Reason',\n",
       "       'This Grade from', '2015 - App.Perf', 'PR 16 - 17', 'PR 17 - 18',\n",
       "       'Education.1', 'Resignation Date', 'Median_CTC', 'compa ratio', 'index',\n",
       "       'training_days', 'training_hours', 'trainings_attended',\n",
       "       'avg_training_days', 'avg_training_hours'],\n",
       "      dtype='object')"
      ]
     },
     "execution_count": 69,
     "metadata": {},
     "output_type": "execute_result"
    }
   ],
   "source": [
    "df.columns"
   ]
  },
  {
   "cell_type": "code",
   "execution_count": 70,
   "metadata": {},
   "outputs": [],
   "source": [
    "df=df[df['Type of employment'].isin({\"Permanent\",\"Probationery\"})]"
   ]
  },
  {
   "cell_type": "code",
   "execution_count": 71,
   "metadata": {},
   "outputs": [
    {
     "data": {
      "text/plain": [
       "Permanent       3763\n",
       "Probationery     278\n",
       "Name: Type of employment, dtype: int64"
      ]
     },
     "execution_count": 71,
     "metadata": {},
     "output_type": "execute_result"
    }
   ],
   "source": [
    "df['Type of employment'].value_counts()"
   ]
  },
  {
   "cell_type": "code",
   "execution_count": 72,
   "metadata": {},
   "outputs": [],
   "source": [
    "df.loc[df['Education'].str.contains('MBA|M.B.A.',na=False),'Education']=\"MBA\"\n",
    "df.loc[df['Education'].str.contains('DET.',na=False),'Education']=\"DET\"\n",
    "df.loc[df['Education'].str.contains('PGE',na=False),'Education']=\"PGE\"\n",
    "df.loc[(df['Education'].str.contains('GE',na=False)) & (df['Education'].str.contains('PGE',na=False)==False),'Education']=\"GE\"\n",
    "df.loc[df['Education'].str.contains('B.E|B Tech',na=False),'Education']=\"BE/B.Tech\"\n",
    "df.loc[df['Education'].str.contains('Diploma',na=False),'Education']=\"Diploma\"\n",
    "df.loc[df['Education'].str.contains('B.COM|B.Com',na=False),'Education']=\"B.Com\"\n",
    "df.loc[df['Education'].str.contains('M.C.A.|MCA',na=False),'Education']=\"MCA\"\n",
    "df.loc[df['Education'].str.contains('ICWA',na=False),'Education']=\"ICWA\"\n",
    "df.loc[df['Education'].str.contains('CA',na=False) & (df['Education'].str.contains('MCA',na=False)==False),'Education']=\"CA\"\n",
    "df.loc[df['Education'].str.contains('B.SC|B.Sc',na=False),'Education']=\"B.SC\""
   ]
  },
  {
   "cell_type": "code",
   "execution_count": 73,
   "metadata": {},
   "outputs": [],
   "source": [
    "df=df.reset_index(drop=True)\n",
    "df['latest_rating']=0\n",
    "for i in range(0,len(df)):\n",
    "    if pd.notnull(df['PR 20 - 21'][i]):\n",
    "        df['latest_rating'][i]=df['PR 20 - 21'][i]\n",
    "    elif pd.isnull(df['PR 20 - 21'][i]) and pd.notnull(df['PR 19 - 20'][i]):  \n",
    "        df['latest_rating'][i]=df['PR 19 - 20'][i] \n",
    "    elif pd.isnull(df['PR 19 - 20'][i]) and pd.notnull(df['PR 18 - 19'][i]):  \n",
    "        df['latest_rating'][i]=df['PR 18 - 19'][i] \n",
    "    elif pd.isnull(df['PR 18 - 19'][i]) and pd.notnull(df['PR 17 - 18'][i]):  \n",
    "        df['latest_rating'][i]=df['PR 17 - 18'][i] \n",
    "    else:\n",
    "        df['latest_rating'][i]=df['PR 16 - 17'][i]"
   ]
  },
  {
   "cell_type": "code",
   "execution_count": 74,
   "metadata": {},
   "outputs": [],
   "source": [
    "df=df.reset_index(drop=True)\n",
    "df['previous_rating']=0\n",
    "for i in range(0,len(df)):\n",
    "    if pd.notnull(df['PR 20 - 21'][i]):\n",
    "        df['previous_rating'][i]=df['PR 19 - 20'][i]\n",
    "    elif pd.isnull(df['PR 20 - 21'][i]) and pd.notnull(df['PR 19 - 20'][i]):  \n",
    "        df['previous_rating'][i]=df['PR 18 - 19'][i] \n",
    "    elif pd.isnull(df['PR 19 - 20'][i]) and pd.notnull(df['PR 18 - 19'][i]):  \n",
    "        df['previous_rating'][i]=df['PR 17 - 18'][i] \n",
    "    elif pd.isnull(df['PR 18 - 19'][i]) and pd.notnull(df['PR 17 - 18'][i]):  \n",
    "        df['previous_rating'][i]=df['PR 16 - 17'][i] "
   ]
  },
  {
   "cell_type": "code",
   "execution_count": 75,
   "metadata": {},
   "outputs": [],
   "source": [
    "rating_scale={'VP':3, 'PM':2, 'EP':5, 'EE':4, 'ME':3, 'NM':1, 'DR':3}"
   ]
  },
  {
   "cell_type": "code",
   "execution_count": 76,
   "metadata": {},
   "outputs": [],
   "source": [
    "df['latest_rating']=df['latest_rating'].map(rating_scale).fillna(0)\n",
    "df['previous_rating']=df['previous_rating'].map(rating_scale).fillna(0)"
   ]
  },
  {
   "cell_type": "code",
   "execution_count": 77,
   "metadata": {},
   "outputs": [],
   "source": [
    "df['rating_delta']=0\n",
    "for j in range(0,len(df)):\n",
    "    if df['previous_rating'][j]>0:\n",
    "        df['rating_delta'][j]=pd.to_numeric(df['latest_rating'][j])-pd.to_numeric(df['previous_rating'][j])\n",
    "    else: \n",
    "        df['rating_delta'][j]=0"
   ]
  },
  {
   "cell_type": "code",
   "execution_count": 78,
   "metadata": {},
   "outputs": [],
   "source": [
    "potential_rating={'LP':1, 'MP':2, 'HP':3, '-':0,0:0}\n",
    "df['Potential Rating']=df['Potential Rating'].fillna(0).map(potential_rating)"
   ]
  },
  {
   "cell_type": "code",
   "execution_count": 79,
   "metadata": {},
   "outputs": [],
   "source": [
    "df['Role']=df['Role'].fillna(\"no_data\")"
   ]
  },
  {
   "cell_type": "code",
   "execution_count": 80,
   "metadata": {},
   "outputs": [],
   "source": [
    "df['Overall_exp_in_Years']=df.TVS_exp_in_Years + df.External_exp_in_Years"
   ]
  },
  {
   "cell_type": "code",
   "execution_count": 81,
   "metadata": {},
   "outputs": [],
   "source": [
    "df['CTC_percentile']=df.CTC.rank(pct=True)\n",
    "df['Age_percentile']=df.Age.rank(pct=True)\n",
    "df['TVS_exp_in_Years_percentile']=df.TVS_exp_in_Years.rank(pct=True)\n",
    "df['External_exp_in_Years_percentile']=df.External_exp_in_Years.rank(pct=True)\n",
    "df['Overall_exp_in_Years_percentile']=df.Overall_exp_in_Years.rank(pct=True)\n",
    "df['Years_in_Current_Grade_percentile']=df.Years_in_Current_Grade.rank(pct=True)\n",
    "df['Years_in_Current_Role_percentile']=df.Years_in_Current_Role.rank(pct=True)\n",
    "df['rating_delta_percentile']=df.rating_delta.rank(pct=True)"
   ]
  },
  {
   "cell_type": "code",
   "execution_count": 82,
   "metadata": {},
   "outputs": [],
   "source": [
    "progression=progression[['Emp.No.','Progression Grade']]\n",
    "progression=progression.groupby('Emp.No.').aggregate('count').reset_index()\n",
    "progression.rename(columns={'Progression Grade':'No of Grade changes'},inplace=True)\n",
    "\n",
    "df=pd.merge(df,progression,on='Emp.No.',how='left')\n",
    "df['No of Grade changes'].fillna(0,inplace=True)\n",
    "df['Grade change per year']=df['No of Grade changes']/df['TVS_exp_in_Years']\n",
    "df['Grade change per year'].fillna(0,inplace=True)"
   ]
  },
  {
   "cell_type": "code",
   "execution_count": 83,
   "metadata": {},
   "outputs": [],
   "source": [
    "recognition=recognition.reset_index()\n",
    "recognition=recognition[['EmployeeCode','Date']]\n",
    "recognition.rename(columns={'EmployeeCode':'Emp.No.'},inplace=True)\n",
    "recognition=recognition.groupby('Emp.No.').aggregate('count').reset_index()\n",
    "recognition.rename(columns={'Date':'Recognitions'},inplace=True)\n",
    "\n",
    "df=pd.merge(df,recognition,on='Emp.No.',how='left')\n",
    "df['Recognitions'].fillna(0,inplace=True)"
   ]
  },
  {
   "cell_type": "code",
   "execution_count": 84,
   "metadata": {},
   "outputs": [],
   "source": [
    "recognition=pd.read_excel(\"../input/recognition.xlsx\",index_col=0).reset_index()\n",
    "recognition=recognition[['EmployeeCode','Date']]\n",
    "recognition=recognition.groupby('EmployeeCode').aggregate(max).reset_index()\n",
    "recognition.rename(columns={'EmployeeCode':'Emp.No.','Date':'Last recognition date'},inplace=True)\n",
    "\n",
    "df=pd.merge(df,recognition,on='Emp.No.',how='left')\n"
   ]
  },
  {
   "cell_type": "code",
   "execution_count": 85,
   "metadata": {},
   "outputs": [],
   "source": [
    "df['Time since last recognition']=0\n",
    "df.loc[df['Attrition']==\"Yes\",'Time since last recognition']=((df['Resignation Date']-df['Last recognition date'].astype(np.datetime64))/ np.timedelta64(1, 'D'))/365\n",
    "\n",
    "from datetime import datetime\n",
    "df.loc[df['Attrition']==\"No\",'Time since last recognition']=((datetime.today()-df['Last recognition date'].astype(np.datetime64))/ np.timedelta64(1, 'D'))/365\n",
    "df.loc[df['Last recognition date'].isna(),'Time since last recognition']=df['TVS_exp_in_Years']"
   ]
  },
  {
   "cell_type": "code",
   "execution_count": 86,
   "metadata": {},
   "outputs": [],
   "source": [
    "inc=pd.merge(incentive,df[['Emp.No.','Resignation Date']],on='Emp.No.',how='left')\n",
    "inc3_=inc.sort_values('BEGDA').groupby('Emp.No.').tail(3).reset_index()\n",
    "inc6_=inc.sort_values('BEGDA').groupby('Emp.No.').tail(6).reset_index()\n",
    "inc3=inc3_[['Emp.No.','incentive']].groupby('Emp.No.').aggregate('mean').reset_index().rename(columns={'incentive':'last three months avg incentive'})\n",
    "inc6=inc6_[['Emp.No.','incentive']].groupby('Emp.No.').aggregate('mean').reset_index().rename(columns={'incentive':'last six months avg incentive'})\n",
    "inc3_sum=inc3_[['Emp.No.','incentive']].groupby('Emp.No.').aggregate('sum').reset_index().rename(columns={'incentive':'last three months incentive'})\n",
    "inc6_sum=inc6_[['Emp.No.','incentive']].groupby('Emp.No.').aggregate('sum').reset_index().rename(columns={'incentive':'last six months incentive'})"
   ]
  },
  {
   "cell_type": "code",
   "execution_count": 87,
   "metadata": {},
   "outputs": [],
   "source": [
    "df=pd.merge(df,inc3,on='Emp.No.',how='left')\n",
    "df=pd.merge(df,inc6,on='Emp.No.',how='left')\n",
    "df=pd.merge(df,inc3_sum,on='Emp.No.',how='left')\n",
    "df=pd.merge(df,inc6_sum,on='Emp.No.',how='left')"
   ]
  },
  {
   "cell_type": "code",
   "execution_count": 88,
   "metadata": {},
   "outputs": [],
   "source": [
    "df['last three months avg incentive'].fillna(0,inplace=True)\n",
    "df['last six months avg incentive'].fillna(0,inplace=True)"
   ]
  },
  {
   "cell_type": "code",
   "execution_count": 89,
   "metadata": {},
   "outputs": [],
   "source": [
    "df['last three months incentive utilization']=df['last three months incentive']/df['CTC']\n",
    "df['last six months incentive utilization']=df['last six months incentive']/df['CTC']\n",
    "\n",
    "df['last three months incentive utilization'].fillna(0,inplace=True)\n",
    "df['last six months incentive utilization'].fillna(0,inplace=True)"
   ]
  },
  {
   "cell_type": "code",
   "execution_count": 90,
   "metadata": {},
   "outputs": [],
   "source": [
    "df=df[df['Department'].isin(['Sales (H)', 'Sales (M)', 'Sales (HP)'])].reset_index(drop=True)"
   ]
  },
  {
   "cell_type": "code",
   "execution_count": 91,
   "metadata": {},
   "outputs": [],
   "source": [
    "df['Role']=df.Role.replace({'Territory Sales Manager':'Territory Manager (Sales)','Territory Manager - Sales':'Territory Manager (Sales)'})"
   ]
  },
  {
   "cell_type": "code",
   "execution_count": 92,
   "metadata": {},
   "outputs": [],
   "source": [
    "df['Grade']=df.Grade.map({'TM':0,'A1':1,'A2':2,'A3':3,'B1':4,'B2':5,'B3':6,'C1':7,'C2':8,'C3':9,'D1':10,'D2':11,'D3':12,'D4':13,'D5':14,'E1':15,'E2':16,'E3':17,'E4':18,'E5':19,'E6':20,'E7':21,\n",
    "'M1':22,'M2':23,'M3':24,'M4':25,'M5':26,'M6':27})"
   ]
  },
  {
   "cell_type": "code",
   "execution_count": 93,
   "metadata": {},
   "outputs": [],
   "source": [
    "df.to_csv(\"../input/created/input_sales.csv\",index=False)"
   ]
  },
  {
   "cell_type": "code",
   "execution_count": 94,
   "metadata": {},
   "outputs": [
    {
     "data": {
      "text/plain": [
       "(414, 65)"
      ]
     },
     "execution_count": 94,
     "metadata": {},
     "output_type": "execute_result"
    }
   ],
   "source": [
    "df.shape"
   ]
  },
  {
   "cell_type": "code",
   "execution_count": 95,
   "metadata": {},
   "outputs": [
    {
     "data": {
      "text/plain": [
       "Index(['Emp.No.', 'Employee Name', 'Date of Birth', 'Date of Join',\n",
       "       'Department', 'Designation', 'work_location', 'TVS_exp_in_Years',\n",
       "       'External_exp_in_Years', 'Grade', 'Grade Effective.Date', 'PR 20 - 21',\n",
       "       'PR 19 - 20', 'PR 18 - 19', 'Education', 'Mode of Selection', 'CTC',\n",
       "       'Type of employment', 'Gender', 'Potential Rating', 'Role',\n",
       "       'This Role from', 'Age', 'Years_in_Current_Role',\n",
       "       'Years_in_Current_Grade', 'Attrition', 'Leaving Date', 'Reason',\n",
       "       'This Grade from', '2015 - App.Perf', 'PR 16 - 17', 'PR 17 - 18',\n",
       "       'Education.1', 'Resignation Date', 'Median_CTC', 'compa ratio', 'index',\n",
       "       'training_days', 'training_hours', 'trainings_attended',\n",
       "       'avg_training_days', 'avg_training_hours', 'latest_rating',\n",
       "       'previous_rating', 'rating_delta', 'Overall_exp_in_Years',\n",
       "       'CTC_percentile', 'Age_percentile', 'TVS_exp_in_Years_percentile',\n",
       "       'External_exp_in_Years_percentile', 'Overall_exp_in_Years_percentile',\n",
       "       'Years_in_Current_Grade_percentile', 'Years_in_Current_Role_percentile',\n",
       "       'rating_delta_percentile', 'No of Grade changes',\n",
       "       'Grade change per year', 'Recognitions', 'Last recognition date',\n",
       "       'Time since last recognition', 'last three months avg incentive',\n",
       "       'last six months avg incentive', 'last three months incentive',\n",
       "       'last six months incentive', 'last three months incentive utilization',\n",
       "       'last six months incentive utilization'],\n",
       "      dtype='object')"
      ]
     },
     "execution_count": 95,
     "metadata": {},
     "output_type": "execute_result"
    }
   ],
   "source": [
    "df.columns"
   ]
  },
  {
   "cell_type": "code",
   "execution_count": 96,
   "metadata": {},
   "outputs": [
    {
     "data": {
      "text/html": [
       "<div>\n",
       "<style scoped>\n",
       "    .dataframe tbody tr th:only-of-type {\n",
       "        vertical-align: middle;\n",
       "    }\n",
       "\n",
       "    .dataframe tbody tr th {\n",
       "        vertical-align: top;\n",
       "    }\n",
       "\n",
       "    .dataframe thead th {\n",
       "        text-align: right;\n",
       "    }\n",
       "</style>\n",
       "<table border=\"1\" class=\"dataframe\">\n",
       "  <thead>\n",
       "    <tr style=\"text-align: right;\">\n",
       "      <th>Attrition</th>\n",
       "      <th>No</th>\n",
       "      <th>Yes</th>\n",
       "      <th>All</th>\n",
       "    </tr>\n",
       "    <tr>\n",
       "      <th>latest_rating</th>\n",
       "      <th></th>\n",
       "      <th></th>\n",
       "      <th></th>\n",
       "    </tr>\n",
       "  </thead>\n",
       "  <tbody>\n",
       "    <tr>\n",
       "      <th>0.0</th>\n",
       "      <td>28</td>\n",
       "      <td>89</td>\n",
       "      <td>117</td>\n",
       "    </tr>\n",
       "    <tr>\n",
       "      <th>1.0</th>\n",
       "      <td>4</td>\n",
       "      <td>0</td>\n",
       "      <td>4</td>\n",
       "    </tr>\n",
       "    <tr>\n",
       "      <th>2.0</th>\n",
       "      <td>22</td>\n",
       "      <td>5</td>\n",
       "      <td>27</td>\n",
       "    </tr>\n",
       "    <tr>\n",
       "      <th>3.0</th>\n",
       "      <td>163</td>\n",
       "      <td>43</td>\n",
       "      <td>206</td>\n",
       "    </tr>\n",
       "    <tr>\n",
       "      <th>4.0</th>\n",
       "      <td>33</td>\n",
       "      <td>11</td>\n",
       "      <td>44</td>\n",
       "    </tr>\n",
       "    <tr>\n",
       "      <th>5.0</th>\n",
       "      <td>14</td>\n",
       "      <td>2</td>\n",
       "      <td>16</td>\n",
       "    </tr>\n",
       "    <tr>\n",
       "      <th>All</th>\n",
       "      <td>264</td>\n",
       "      <td>150</td>\n",
       "      <td>414</td>\n",
       "    </tr>\n",
       "  </tbody>\n",
       "</table>\n",
       "</div>"
      ],
      "text/plain": [
       "Attrition       No  Yes  All\n",
       "latest_rating               \n",
       "0.0             28   89  117\n",
       "1.0              4    0    4\n",
       "2.0             22    5   27\n",
       "3.0            163   43  206\n",
       "4.0             33   11   44\n",
       "5.0             14    2   16\n",
       "All            264  150  414"
      ]
     },
     "execution_count": 96,
     "metadata": {},
     "output_type": "execute_result"
    }
   ],
   "source": [
    "pd.crosstab(df.latest_rating,df.Attrition,margins=True)"
   ]
  },
  {
   "cell_type": "code",
   "execution_count": 97,
   "metadata": {},
   "outputs": [],
   "source": [
    "prediction_input=df[df.Attrition=='No']"
   ]
  },
  {
   "cell_type": "code",
   "execution_count": 98,
   "metadata": {},
   "outputs": [],
   "source": [
    "prediction_input.to_csv(\"../output/predictions/sales_prediction_input.csv\",index=False)"
   ]
  },
  {
   "cell_type": "code",
   "execution_count": 99,
   "metadata": {},
   "outputs": [],
   "source": [
    "prediction_input = prediction_input.sample(frac=1).reset_index(drop=True) \n",
    "    "
   ]
  },
  {
   "cell_type": "code",
   "execution_count": 100,
   "metadata": {},
   "outputs": [
    {
     "data": {
      "text/plain": [
       "Index(['Emp.No.', 'Employee Name', 'Date of Birth', 'Date of Join',\n",
       "       'Department', 'Designation', 'work_location', 'TVS_exp_in_Years',\n",
       "       'External_exp_in_Years', 'Grade', 'Grade Effective.Date', 'PR 20 - 21',\n",
       "       'PR 19 - 20', 'PR 18 - 19', 'Education', 'Mode of Selection', 'CTC',\n",
       "       'Type of employment', 'Gender', 'Potential Rating', 'Role',\n",
       "       'This Role from', 'Age', 'Years_in_Current_Role',\n",
       "       'Years_in_Current_Grade', 'Attrition', 'Leaving Date', 'Reason',\n",
       "       'This Grade from', '2015 - App.Perf', 'PR 16 - 17', 'PR 17 - 18',\n",
       "       'Education.1', 'Resignation Date', 'Median_CTC', 'compa ratio', 'index',\n",
       "       'training_days', 'training_hours', 'trainings_attended',\n",
       "       'avg_training_days', 'avg_training_hours', 'latest_rating',\n",
       "       'previous_rating', 'rating_delta', 'Overall_exp_in_Years',\n",
       "       'CTC_percentile', 'Age_percentile', 'TVS_exp_in_Years_percentile',\n",
       "       'External_exp_in_Years_percentile', 'Overall_exp_in_Years_percentile',\n",
       "       'Years_in_Current_Grade_percentile', 'Years_in_Current_Role_percentile',\n",
       "       'rating_delta_percentile', 'No of Grade changes',\n",
       "       'Grade change per year', 'Recognitions', 'Last recognition date',\n",
       "       'Time since last recognition', 'last three months avg incentive',\n",
       "       'last six months avg incentive', 'last three months incentive',\n",
       "       'last six months incentive', 'last three months incentive utilization',\n",
       "       'last six months incentive utilization'],\n",
       "      dtype='object')"
      ]
     },
     "execution_count": 100,
     "metadata": {},
     "output_type": "execute_result"
    }
   ],
   "source": [
    "prediction_input.columns"
   ]
  },
  {
   "cell_type": "code",
   "execution_count": 101,
   "metadata": {},
   "outputs": [
    {
     "data": {
      "text/plain": [
       "(414, 65)"
      ]
     },
     "execution_count": 101,
     "metadata": {},
     "output_type": "execute_result"
    }
   ],
   "source": [
    "df.shape"
   ]
  },
  {
   "cell_type": "code",
   "execution_count": 102,
   "metadata": {},
   "outputs": [
    {
     "data": {
      "text/html": [
       "<div>\n",
       "<style scoped>\n",
       "    .dataframe tbody tr th:only-of-type {\n",
       "        vertical-align: middle;\n",
       "    }\n",
       "\n",
       "    .dataframe tbody tr th {\n",
       "        vertical-align: top;\n",
       "    }\n",
       "\n",
       "    .dataframe thead th {\n",
       "        text-align: right;\n",
       "    }\n",
       "</style>\n",
       "<table border=\"1\" class=\"dataframe\">\n",
       "  <thead>\n",
       "    <tr style=\"text-align: right;\">\n",
       "      <th></th>\n",
       "      <th>Emp.No.</th>\n",
       "      <th>Employee Name</th>\n",
       "      <th>Date of Birth</th>\n",
       "      <th>Date of Join</th>\n",
       "      <th>Department</th>\n",
       "      <th>Designation</th>\n",
       "      <th>work_location</th>\n",
       "      <th>TVS_exp_in_Years</th>\n",
       "      <th>External_exp_in_Years</th>\n",
       "      <th>Grade</th>\n",
       "      <th>...</th>\n",
       "      <th>Grade change per year</th>\n",
       "      <th>Recognitions</th>\n",
       "      <th>Last recognition date</th>\n",
       "      <th>Time since last recognition</th>\n",
       "      <th>last three months avg incentive</th>\n",
       "      <th>last six months avg incentive</th>\n",
       "      <th>last three months incentive</th>\n",
       "      <th>last six months incentive</th>\n",
       "      <th>last three months incentive utilization</th>\n",
       "      <th>last six months incentive utilization</th>\n",
       "    </tr>\n",
       "  </thead>\n",
       "  <tbody>\n",
       "    <tr>\n",
       "      <th>0</th>\n",
       "      <td>735</td>\n",
       "      <td>K Muruganandam</td>\n",
       "      <td>1967-03-05</td>\n",
       "      <td>1986-07-31</td>\n",
       "      <td>Sales (H)</td>\n",
       "      <td>Deputy General Manager - Warehouse</td>\n",
       "      <td>Hosur Plant</td>\n",
       "      <td>34.690411</td>\n",
       "      <td>0.8</td>\n",
       "      <td>9</td>\n",
       "      <td>...</td>\n",
       "      <td>0.000000</td>\n",
       "      <td>1.0</td>\n",
       "      <td>2021-08-14</td>\n",
       "      <td>0.470601</td>\n",
       "      <td>0.000000</td>\n",
       "      <td>0.000000</td>\n",
       "      <td>NaN</td>\n",
       "      <td>NaN</td>\n",
       "      <td>0.000000</td>\n",
       "      <td>0.000000</td>\n",
       "    </tr>\n",
       "    <tr>\n",
       "      <th>1</th>\n",
       "      <td>760</td>\n",
       "      <td>S Meenakshisundaram</td>\n",
       "      <td>1964-01-04</td>\n",
       "      <td>1987-02-16</td>\n",
       "      <td>Sales (H)</td>\n",
       "      <td>Deputy Manager - Network Development</td>\n",
       "      <td>Hosur Plant</td>\n",
       "      <td>34.142466</td>\n",
       "      <td>0.5</td>\n",
       "      <td>5</td>\n",
       "      <td>...</td>\n",
       "      <td>0.000000</td>\n",
       "      <td>0.0</td>\n",
       "      <td>2021-10-18</td>\n",
       "      <td>0.292519</td>\n",
       "      <td>0.000000</td>\n",
       "      <td>0.000000</td>\n",
       "      <td>NaN</td>\n",
       "      <td>NaN</td>\n",
       "      <td>0.000000</td>\n",
       "      <td>0.000000</td>\n",
       "    </tr>\n",
       "    <tr>\n",
       "      <th>2</th>\n",
       "      <td>914</td>\n",
       "      <td>V Ramesh</td>\n",
       "      <td>1964-06-19</td>\n",
       "      <td>1990-09-10</td>\n",
       "      <td>Sales (H)</td>\n",
       "      <td>Senior Executive - Network Development</td>\n",
       "      <td>Hosur Plant</td>\n",
       "      <td>30.575342</td>\n",
       "      <td>2.9</td>\n",
       "      <td>3</td>\n",
       "      <td>...</td>\n",
       "      <td>0.000000</td>\n",
       "      <td>0.0</td>\n",
       "      <td>2021-10-18</td>\n",
       "      <td>0.292519</td>\n",
       "      <td>0.000000</td>\n",
       "      <td>0.000000</td>\n",
       "      <td>NaN</td>\n",
       "      <td>NaN</td>\n",
       "      <td>0.000000</td>\n",
       "      <td>0.000000</td>\n",
       "    </tr>\n",
       "    <tr>\n",
       "      <th>3</th>\n",
       "      <td>925</td>\n",
       "      <td>K Prakash Kamath</td>\n",
       "      <td>1964-11-04</td>\n",
       "      <td>1990-11-05</td>\n",
       "      <td>Sales (H)</td>\n",
       "      <td>Senior Manager - Planning</td>\n",
       "      <td>Hosur Plant</td>\n",
       "      <td>30.421918</td>\n",
       "      <td>1.8</td>\n",
       "      <td>7</td>\n",
       "      <td>...</td>\n",
       "      <td>0.000000</td>\n",
       "      <td>0.0</td>\n",
       "      <td>NaN</td>\n",
       "      <td>30.421918</td>\n",
       "      <td>0.000000</td>\n",
       "      <td>0.000000</td>\n",
       "      <td>NaN</td>\n",
       "      <td>NaN</td>\n",
       "      <td>0.000000</td>\n",
       "      <td>0.000000</td>\n",
       "    </tr>\n",
       "    <tr>\n",
       "      <th>4</th>\n",
       "      <td>953</td>\n",
       "      <td>Avijit Ghosh</td>\n",
       "      <td>1966-07-01</td>\n",
       "      <td>1992-11-21</td>\n",
       "      <td>Sales (H)</td>\n",
       "      <td>Manager - Sales</td>\n",
       "      <td>Ahmedabad</td>\n",
       "      <td>28.375342</td>\n",
       "      <td>7.0</td>\n",
       "      <td>6</td>\n",
       "      <td>...</td>\n",
       "      <td>0.000000</td>\n",
       "      <td>0.0</td>\n",
       "      <td>NaN</td>\n",
       "      <td>28.375342</td>\n",
       "      <td>28733.333333</td>\n",
       "      <td>24410.666667</td>\n",
       "      <td>86200.0</td>\n",
       "      <td>146464.0</td>\n",
       "      <td>0.028959</td>\n",
       "      <td>0.049205</td>\n",
       "    </tr>\n",
       "    <tr>\n",
       "      <th>...</th>\n",
       "      <td>...</td>\n",
       "      <td>...</td>\n",
       "      <td>...</td>\n",
       "      <td>...</td>\n",
       "      <td>...</td>\n",
       "      <td>...</td>\n",
       "      <td>...</td>\n",
       "      <td>...</td>\n",
       "      <td>...</td>\n",
       "      <td>...</td>\n",
       "      <td>...</td>\n",
       "      <td>...</td>\n",
       "      <td>...</td>\n",
       "      <td>...</td>\n",
       "      <td>...</td>\n",
       "      <td>...</td>\n",
       "      <td>...</td>\n",
       "      <td>...</td>\n",
       "      <td>...</td>\n",
       "      <td>...</td>\n",
       "      <td>...</td>\n",
       "    </tr>\n",
       "    <tr>\n",
       "      <th>409</th>\n",
       "      <td>10855</td>\n",
       "      <td>R Amosh</td>\n",
       "      <td>1996-05-25</td>\n",
       "      <td>2016-07-07</td>\n",
       "      <td>Sales (H)</td>\n",
       "      <td>Territory Manager</td>\n",
       "      <td>Tiruppur</td>\n",
       "      <td>4.734247</td>\n",
       "      <td>0.0</td>\n",
       "      <td>3</td>\n",
       "      <td>...</td>\n",
       "      <td>0.422454</td>\n",
       "      <td>0.0</td>\n",
       "      <td>2021-09-01</td>\n",
       "      <td>0.421286</td>\n",
       "      <td>50000.000000</td>\n",
       "      <td>50000.000000</td>\n",
       "      <td>100000.0</td>\n",
       "      <td>100000.0</td>\n",
       "      <td>0.112821</td>\n",
       "      <td>0.112821</td>\n",
       "    </tr>\n",
       "    <tr>\n",
       "      <th>410</th>\n",
       "      <td>12064</td>\n",
       "      <td>Tanmay Dey</td>\n",
       "      <td>1995-03-27</td>\n",
       "      <td>2018-07-18</td>\n",
       "      <td>Sales (H)</td>\n",
       "      <td>Assistant Manager - Sales</td>\n",
       "      <td>Noida</td>\n",
       "      <td>2.704110</td>\n",
       "      <td>0.0</td>\n",
       "      <td>4</td>\n",
       "      <td>...</td>\n",
       "      <td>0.000000</td>\n",
       "      <td>0.0</td>\n",
       "      <td>NaN</td>\n",
       "      <td>2.704110</td>\n",
       "      <td>75000.000000</td>\n",
       "      <td>75000.000000</td>\n",
       "      <td>75000.0</td>\n",
       "      <td>75000.0</td>\n",
       "      <td>0.077905</td>\n",
       "      <td>0.077905</td>\n",
       "    </tr>\n",
       "    <tr>\n",
       "      <th>411</th>\n",
       "      <td>12337</td>\n",
       "      <td>Sohamm Ghoshal</td>\n",
       "      <td>1993-10-17</td>\n",
       "      <td>2019-04-10</td>\n",
       "      <td>Sales (H)</td>\n",
       "      <td>Territory Manager</td>\n",
       "      <td>Raipur</td>\n",
       "      <td>1.975342</td>\n",
       "      <td>0.1</td>\n",
       "      <td>4</td>\n",
       "      <td>...</td>\n",
       "      <td>0.000000</td>\n",
       "      <td>1.0</td>\n",
       "      <td>2020-05-01</td>\n",
       "      <td>1.758272</td>\n",
       "      <td>0.000000</td>\n",
       "      <td>0.000000</td>\n",
       "      <td>NaN</td>\n",
       "      <td>NaN</td>\n",
       "      <td>0.000000</td>\n",
       "      <td>0.000000</td>\n",
       "    </tr>\n",
       "    <tr>\n",
       "      <th>412</th>\n",
       "      <td>11493</td>\n",
       "      <td>D Raja</td>\n",
       "      <td>1996-09-06</td>\n",
       "      <td>2017-06-08</td>\n",
       "      <td>Sales (H)</td>\n",
       "      <td>Territory Executive</td>\n",
       "      <td>Chennai</td>\n",
       "      <td>3.813699</td>\n",
       "      <td>0.0</td>\n",
       "      <td>2</td>\n",
       "      <td>...</td>\n",
       "      <td>0.000000</td>\n",
       "      <td>0.0</td>\n",
       "      <td>NaN</td>\n",
       "      <td>3.813699</td>\n",
       "      <td>75000.000000</td>\n",
       "      <td>75000.000000</td>\n",
       "      <td>75000.0</td>\n",
       "      <td>75000.0</td>\n",
       "      <td>0.157944</td>\n",
       "      <td>0.157944</td>\n",
       "    </tr>\n",
       "    <tr>\n",
       "      <th>413</th>\n",
       "      <td>12783</td>\n",
       "      <td>R Mohan</td>\n",
       "      <td>1989-03-21</td>\n",
       "      <td>2020-05-06</td>\n",
       "      <td>Sales (H)</td>\n",
       "      <td>Territory Manager</td>\n",
       "      <td>Coimbatore</td>\n",
       "      <td>0.901370</td>\n",
       "      <td>6.8</td>\n",
       "      <td>5</td>\n",
       "      <td>...</td>\n",
       "      <td>0.000000</td>\n",
       "      <td>0.0</td>\n",
       "      <td>NaN</td>\n",
       "      <td>0.901370</td>\n",
       "      <td>75000.000000</td>\n",
       "      <td>75000.000000</td>\n",
       "      <td>75000.0</td>\n",
       "      <td>75000.0</td>\n",
       "      <td>0.059954</td>\n",
       "      <td>0.059954</td>\n",
       "    </tr>\n",
       "  </tbody>\n",
       "</table>\n",
       "<p>414 rows × 65 columns</p>\n",
       "</div>"
      ],
      "text/plain": [
       "     Emp.No.        Employee Name Date of Birth Date of Join Department  \\\n",
       "0        735       K Muruganandam    1967-03-05   1986-07-31  Sales (H)   \n",
       "1        760  S Meenakshisundaram    1964-01-04   1987-02-16  Sales (H)   \n",
       "2        914             V Ramesh    1964-06-19   1990-09-10  Sales (H)   \n",
       "3        925     K Prakash Kamath    1964-11-04   1990-11-05  Sales (H)   \n",
       "4        953         Avijit Ghosh    1966-07-01   1992-11-21  Sales (H)   \n",
       "..       ...                  ...           ...          ...        ...   \n",
       "409    10855              R Amosh    1996-05-25   2016-07-07  Sales (H)   \n",
       "410    12064           Tanmay Dey    1995-03-27   2018-07-18  Sales (H)   \n",
       "411    12337       Sohamm Ghoshal    1993-10-17   2019-04-10  Sales (H)   \n",
       "412    11493               D Raja    1996-09-06   2017-06-08  Sales (H)   \n",
       "413    12783              R Mohan    1989-03-21   2020-05-06  Sales (H)   \n",
       "\n",
       "                                Designation work_location  TVS_exp_in_Years  \\\n",
       "0        Deputy General Manager - Warehouse   Hosur Plant         34.690411   \n",
       "1      Deputy Manager - Network Development   Hosur Plant         34.142466   \n",
       "2    Senior Executive - Network Development   Hosur Plant         30.575342   \n",
       "3                 Senior Manager - Planning   Hosur Plant         30.421918   \n",
       "4                           Manager - Sales     Ahmedabad         28.375342   \n",
       "..                                      ...           ...               ...   \n",
       "409                       Territory Manager      Tiruppur          4.734247   \n",
       "410               Assistant Manager - Sales         Noida          2.704110   \n",
       "411                       Territory Manager        Raipur          1.975342   \n",
       "412                     Territory Executive       Chennai          3.813699   \n",
       "413                       Territory Manager    Coimbatore          0.901370   \n",
       "\n",
       "     External_exp_in_Years  Grade  ... Grade change per year Recognitions  \\\n",
       "0                      0.8      9  ...              0.000000          1.0   \n",
       "1                      0.5      5  ...              0.000000          0.0   \n",
       "2                      2.9      3  ...              0.000000          0.0   \n",
       "3                      1.8      7  ...              0.000000          0.0   \n",
       "4                      7.0      6  ...              0.000000          0.0   \n",
       "..                     ...    ...  ...                   ...          ...   \n",
       "409                    0.0      3  ...              0.422454          0.0   \n",
       "410                    0.0      4  ...              0.000000          0.0   \n",
       "411                    0.1      4  ...              0.000000          1.0   \n",
       "412                    0.0      2  ...              0.000000          0.0   \n",
       "413                    6.8      5  ...              0.000000          0.0   \n",
       "\n",
       "    Last recognition date Time since last recognition  \\\n",
       "0              2021-08-14                    0.470601   \n",
       "1              2021-10-18                    0.292519   \n",
       "2              2021-10-18                    0.292519   \n",
       "3                     NaN                   30.421918   \n",
       "4                     NaN                   28.375342   \n",
       "..                    ...                         ...   \n",
       "409            2021-09-01                    0.421286   \n",
       "410                   NaN                    2.704110   \n",
       "411            2020-05-01                    1.758272   \n",
       "412                   NaN                    3.813699   \n",
       "413                   NaN                    0.901370   \n",
       "\n",
       "    last three months avg incentive last six months avg incentive  \\\n",
       "0                          0.000000                      0.000000   \n",
       "1                          0.000000                      0.000000   \n",
       "2                          0.000000                      0.000000   \n",
       "3                          0.000000                      0.000000   \n",
       "4                      28733.333333                  24410.666667   \n",
       "..                              ...                           ...   \n",
       "409                    50000.000000                  50000.000000   \n",
       "410                    75000.000000                  75000.000000   \n",
       "411                        0.000000                      0.000000   \n",
       "412                    75000.000000                  75000.000000   \n",
       "413                    75000.000000                  75000.000000   \n",
       "\n",
       "     last three months incentive last six months incentive  \\\n",
       "0                            NaN                       NaN   \n",
       "1                            NaN                       NaN   \n",
       "2                            NaN                       NaN   \n",
       "3                            NaN                       NaN   \n",
       "4                        86200.0                  146464.0   \n",
       "..                           ...                       ...   \n",
       "409                     100000.0                  100000.0   \n",
       "410                      75000.0                   75000.0   \n",
       "411                          NaN                       NaN   \n",
       "412                      75000.0                   75000.0   \n",
       "413                      75000.0                   75000.0   \n",
       "\n",
       "    last three months incentive utilization  \\\n",
       "0                                  0.000000   \n",
       "1                                  0.000000   \n",
       "2                                  0.000000   \n",
       "3                                  0.000000   \n",
       "4                                  0.028959   \n",
       "..                                      ...   \n",
       "409                                0.112821   \n",
       "410                                0.077905   \n",
       "411                                0.000000   \n",
       "412                                0.157944   \n",
       "413                                0.059954   \n",
       "\n",
       "     last six months incentive utilization  \n",
       "0                                 0.000000  \n",
       "1                                 0.000000  \n",
       "2                                 0.000000  \n",
       "3                                 0.000000  \n",
       "4                                 0.049205  \n",
       "..                                     ...  \n",
       "409                               0.112821  \n",
       "410                               0.077905  \n",
       "411                               0.000000  \n",
       "412                               0.157944  \n",
       "413                               0.059954  \n",
       "\n",
       "[414 rows x 65 columns]"
      ]
     },
     "execution_count": 102,
     "metadata": {},
     "output_type": "execute_result"
    }
   ],
   "source": [
    "df"
   ]
  },
  {
   "cell_type": "code",
   "execution_count": 103,
   "metadata": {},
   "outputs": [],
   "source": [
    "oot=[7684,9178,11488,11789,12336,12811,12815,12447, 12345, 12784, 13106, 12443,  7285, 12986, 10623, 12213,\n",
    "       12420, 10855, 12064, 12337, 11493, 12783]\n",
    "oot=pd.DataFrame(oot).rename(columns={0:\"Emp.No.\"})\n",
    "oot=pd.merge(oot,attrition[['Emp.No.','Leaving Date']],on='Emp.No.',how='left')\n",
    "oot['Resignation Date']=oot['Leaving Date']-pd.DateOffset(months=3)\n",
    "oot['Resignation Date'].fillna(\"2021-09-01\",inplace=True)\n",
    "oot=oot[['Emp.No.','Resignation Date']]\n",
    "oot.to_csv(\"../output/predictions/oot.csv\")"
   ]
  },
  {
   "cell_type": "code",
   "execution_count": 104,
   "metadata": {},
   "outputs": [
    {
     "data": {
      "text/plain": [
       "Index(['Emp.No.', 'Employee Name', 'Date of Birth', 'Date of Join',\n",
       "       'Department', 'Designation', 'work_location', 'TVS_exp_in_Years',\n",
       "       'External_exp_in_Years', 'Grade', 'Grade Effective.Date', 'PR 20 - 21',\n",
       "       'PR 19 - 20', 'PR 18 - 19', 'Education', 'Mode of Selection', 'CTC',\n",
       "       'Type of employment', 'Gender', 'Potential Rating', 'Role',\n",
       "       'This Role from', 'Age', 'Years_in_Current_Role',\n",
       "       'Years_in_Current_Grade', 'Attrition', 'Leaving Date', 'Reason',\n",
       "       'This Grade from', '2015 - App.Perf', 'PR 16 - 17', 'PR 17 - 18',\n",
       "       'Education.1', 'Resignation Date', 'Median_CTC', 'compa ratio', 'index',\n",
       "       'training_days', 'training_hours', 'trainings_attended',\n",
       "       'avg_training_days', 'avg_training_hours', 'latest_rating',\n",
       "       'previous_rating', 'rating_delta', 'Overall_exp_in_Years',\n",
       "       'CTC_percentile', 'Age_percentile', 'TVS_exp_in_Years_percentile',\n",
       "       'External_exp_in_Years_percentile', 'Overall_exp_in_Years_percentile',\n",
       "       'Years_in_Current_Grade_percentile', 'Years_in_Current_Role_percentile',\n",
       "       'rating_delta_percentile', 'No of Grade changes',\n",
       "       'Grade change per year', 'Recognitions', 'Last recognition date',\n",
       "       'Time since last recognition', 'last three months avg incentive',\n",
       "       'last six months avg incentive', 'last three months incentive',\n",
       "       'last six months incentive', 'last three months incentive utilization',\n",
       "       'last six months incentive utilization'],\n",
       "      dtype='object')"
      ]
     },
     "execution_count": 104,
     "metadata": {},
     "output_type": "execute_result"
    }
   ],
   "source": [
    "df.columns"
   ]
  },
  {
   "cell_type": "code",
   "execution_count": 105,
   "metadata": {},
   "outputs": [
    {
     "data": {
      "text/plain": [
       "array([ 7285, 12986, 10623, 12213, 12420, 10855, 12064, 12337, 11493,\n",
       "       12783])"
      ]
     },
     "execution_count": 105,
     "metadata": {},
     "output_type": "execute_result"
    }
   ],
   "source": [
    "doo[doo['Department'].isin(['Sales (H)', 'Sales (M)', 'Sales (HP)'])].reset_index(drop=True)['Emp.No.'].unique()"
   ]
  },
  {
   "cell_type": "code",
   "execution_count": 106,
   "metadata": {},
   "outputs": [],
   "source": [
    "dr=pd.read_excel(\"../input/oot.xlsx\")"
   ]
  },
  {
   "cell_type": "code",
   "execution_count": 107,
   "metadata": {},
   "outputs": [
    {
     "data": {
      "text/plain": [
       "0     9/2021\n",
       "1     9/2021\n",
       "2     9/2021\n",
       "3     9/2021\n",
       "4     9/2021\n",
       "5     9/2021\n",
       "6     9/2021\n",
       "7     4/2021\n",
       "8     4/2021\n",
       "9     4/2021\n",
       "10    4/2021\n",
       "11    4/2021\n",
       "12    5/2021\n",
       "13    5/2021\n",
       "14    5/2021\n",
       "15    5/2021\n",
       "16    5/2021\n",
       "17    6/2021\n",
       "18    6/2021\n",
       "19    6/2021\n",
       "20    6/2021\n",
       "21    7/2021\n",
       "Name: Resignation Date, dtype: object"
      ]
     },
     "execution_count": 107,
     "metadata": {},
     "output_type": "execute_result"
    }
   ],
   "source": [
    "import datetime as dt\n",
    "dr['Resignation Date'].dt.month.astype(str)+ '/' +dr['Resignation Date'].dt.year.astype(str)"
   ]
  },
  {
   "cell_type": "code",
   "execution_count": null,
   "metadata": {},
   "outputs": [],
   "source": []
  }
 ],
 "metadata": {
  "interpreter": {
   "hash": "aee8b7b246df8f9039afb4144a1f6fd8d2ca17a180786b69acc140d282b71a49"
  },
  "kernelspec": {
   "display_name": "Python 3.10.0 64-bit",
   "language": "python",
   "name": "python3"
  },
  "language_info": {
   "codemirror_mode": {
    "name": "ipython",
    "version": 3
   },
   "file_extension": ".py",
   "mimetype": "text/x-python",
   "name": "python",
   "nbconvert_exporter": "python",
   "pygments_lexer": "ipython3",
   "version": "3.9.7"
  },
  "orig_nbformat": 4
 },
 "nbformat": 4,
 "nbformat_minor": 2
}
